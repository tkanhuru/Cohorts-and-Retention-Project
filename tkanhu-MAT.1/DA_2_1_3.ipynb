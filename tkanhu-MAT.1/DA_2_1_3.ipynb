{
  "nbformat": 4,
  "nbformat_minor": 0,
  "metadata": {
    "colab": {
      "name": "DA_2_1_3.ipynb",
      "provenance": [],
      "collapsed_sections": []
    },
    "kernelspec": {
      "name": "python3",
      "display_name": "Python 3"
    },
    "language_info": {
      "name": "python"
    }
  },
  "cells": [
    {
      "cell_type": "markdown",
      "source": [
        "# Module 2: Main Analysis Types\n",
        "## Sprint 1: Retention, Cohorts & Churn\n",
        "## Part 3: Graded Task\n",
        "\n",
        "## Task Description\n",
        "\n",
        "You got a follow up task from your product manager to give stats on how subscriptions churn looks like from a weekly retention standpoint. Your PM argues that to view retention numbers on a monthly basis takes too long and important insights from data might be missed out.\n",
        "\n",
        "You remember learning previously that cohorts analysis can be really helpful in such cases. You should provide weekly subscriptions data that would show how many subscribers who started on a particular week remain active in the upcoming 6 weeks. Your end result should show weekly retention cohorts and their retention from week 1 to week 6. Assume that you are doing this analysis on 2021-02-07.\n",
        "\n",
        "You should use [turing_data_analytics.subscriptions](https://console.cloud.google.com/bigquery?authuser=3&project=tc-da-1&page=table&ws=!1m19!1m3!8m2!1s756497109418!2s1b8fa7cb3d73401f81fea1591fa615a7!1m4!4m3!1sjustasproject-176208!2sturing_college!3sraw_events_test!1m4!4m3!1sjustasproject-176208!2sturing_college!3ssubscriptions!1m4!4m3!1stc-da-1!2sturing_data_analytics!3ssubscriptions&d=turing_data_analytics&p=tc-da-1&t=subscriptions) table to answer this question. Please write a SQL that would extract data from the BigQuery, make a visualisation using Google spreadsheets and briefly comment your findings.\n",
        "\n",
        "\n",
        "<br>\n",
        "\n",
        "## Evaluation criteria for a Graded project submission\n",
        "\n",
        "- SQL, correct columns identified to make analysis.\n",
        "- SQL, correct logic created to make analysis.\n",
        "- SQL, code formatted well and is readable.\n",
        "- Google Sheets, visualisation is clear and communicates the message/answer.\n",
        "- Analysis, findings and main points clearly structured.\n",
        "\n",
        "<br>\n",
        "\n",
        "During a task review, you may get asked questions that test your understanding of covered topics.\n",
        "\n",
        "**Sample questions**:\n",
        "\n",
        "- What is the relationship between churn and retention rate?\n",
        "- What is negative churn?\n",
        "- What is user retention?\n",
        "- What are user retention cohorts?\n",
        "\n",
        "## Submission\n",
        "Upload all solution files for this graded task to your GitHub repository using the \"Add File\" function.\n"
      ],
      "metadata": {
        "id": "gZz0xrLrK0eB"
      }
    },
    {
      "cell_type": "markdown",
      "source": [
        "<br>\n",
        "\n",
        "## Accessing the next notebook:\n",
        "After you schedule your project reviews, you can already start working on the next part from the upcoming sprint. To access it, go to https://github.com/TuringCollegeSubmissions/DA.2.2.1. If you need access to additional parts of the next sprint, contact Giedrius Zebrauskas via Discord. Once the project review is completed, you will see this content in the Turing platform normally."
      ],
      "metadata": {
        "id": "3R--PRWqSPnc"
      }
    }
  ]
}